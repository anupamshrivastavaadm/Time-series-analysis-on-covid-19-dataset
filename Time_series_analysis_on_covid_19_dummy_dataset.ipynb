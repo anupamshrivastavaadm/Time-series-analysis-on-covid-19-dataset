{
  "nbformat": 4,
  "nbformat_minor": 0,
  "metadata": {
    "colab": {
      "provenance": []
    },
    "kernelspec": {
      "name": "python3",
      "display_name": "Python 3"
    },
    "language_info": {
      "name": "python"
    }
  },
  "cells": [
    {
      "cell_type": "markdown",
      "source": [
        "#Time Series Analysis on Covid - 19 using dummy data."
      ],
      "metadata": {
        "id": "XBx6mTUWA2UK"
      }
    },
    {
      "cell_type": "markdown",
      "source": [
        "Importing Required Libraries"
      ],
      "metadata": {
        "id": "tzPo4Hd8Av_a"
      }
    },
    {
      "cell_type": "code",
      "execution_count": 1,
      "metadata": {
        "id": "MlQqSjgQ5-HI"
      },
      "outputs": [],
      "source": [
        "#importing required libraried\n",
        "import pandas as pd\n",
        "import matplotlib.pyplot as plt\n",
        "from statsmodels.tsa.stattools import adfuller\n",
        "from statsmodels.tsa.arima.model import ARIMA"
      ]
    },
    {
      "cell_type": "markdown",
      "source": [
        "Mounting the drive\n"
      ],
      "metadata": {
        "id": "9S5qNEXBApE7"
      }
    },
    {
      "cell_type": "code",
      "source": [
        "from google.colab import drive\n",
        "drive.mount('/content/drive')"
      ],
      "metadata": {
        "colab": {
          "base_uri": "https://localhost:8080/"
        },
        "id": "x_UlVrwu633p",
        "outputId": "738e7b08-f78f-48f3-ff2f-568edddf3d0b"
      },
      "execution_count": 3,
      "outputs": [
        {
          "output_type": "stream",
          "name": "stdout",
          "text": [
            "Mounted at /content/drive\n"
          ]
        }
      ]
    },
    {
      "cell_type": "markdown",
      "source": [
        "Loading the dataset"
      ],
      "metadata": {
        "id": "v7jmhX8IA_Sa"
      }
    },
    {
      "cell_type": "code",
      "source": [
        "# Load the dataset\n",
        "df = pd.read_csv('/content/drive/MyDrive/Github_projects/Covid data/covid_data.csv - Sheet1.csv', parse_dates=['date'], index_col='date')"
      ],
      "metadata": {
        "id": "r4454gGn6lWv"
      },
      "execution_count": 4,
      "outputs": []
    },
    {
      "cell_type": "markdown",
      "source": [
        "Resample the data to daily frequency"
      ],
      "metadata": {
        "id": "K56sfwCzBBE5"
      }
    },
    {
      "cell_type": "code",
      "source": [
        "# Resample the data to daily frequency\n",
        "df_daily = df.resample('D').sum()"
      ],
      "metadata": {
        "id": "eRedv43T6pxg"
      },
      "execution_count": 5,
      "outputs": []
    },
    {
      "cell_type": "markdown",
      "source": [
        " Visualizing the time series                                                                                                                                                                                                                                                                                                       "
      ],
      "metadata": {
        "id": "2YBhrANXBEmB"
      }
    },
    {
      "cell_type": "code",
      "source": [
        "# Visualize the time series\n",
        "plt.figure(figsize=(10,5))\n",
        "plt.plot(df_daily.index, df_daily['new_cases'])\n",
        "plt.title('Daily New Covid Cases')\n",
        "plt.xlabel('Date')\n",
        "plt.ylabel('Number of Cases')\n",
        "plt.show()"
      ],
      "metadata": {
        "colab": {
          "base_uri": "https://localhost:8080/",
          "height": 350
        },
        "id": "ZRpxiWjR-855",
        "outputId": "2cfc6b71-3d60-4bc6-84cc-ee109e7f2b90"
      },
      "execution_count": 6,
      "outputs": [
        {
          "output_type": "display_data",
          "data": {
            "text/plain": [
              "<Figure size 720x360 with 1 Axes>"
            ],
            "image/png": "[encoded data removed]"
          },
          "metadata": {
            "needs_background": "light"
          }
        }
      ]
    },
    {
      "cell_type": "markdown",
      "source": [
        "Check the stationarity of the time series using Augmented Dickey-Fuller test"
      ],
      "metadata": {
        "id": "rOcUY6FtBRh6"
      }
    },
    {
      "cell_type": "code",
      "source": [
        "# Check the stationarity of the time series using Augmented Dickey-Fuller test\n",
        "result = adfuller(df_daily['new_cases'])\n",
        "print('ADF Statistic:', result[0])\n",
        "print('p-value:', result[1])\n",
        "print('Critical Values:')\n",
        "for key, value in result[4].items():\n",
        "    print('\\t{}: {}'.format(key, value))"
      ],
      "metadata": {
        "colab": {
          "base_uri": "https://localhost:8080/"
        },
        "id": "K_ySU47z_Al6",
        "outputId": "4239c76a-8faf-44aa-83f9-9fa27b593a75"
      },
      "execution_count": 7,
      "outputs": [
        {
          "output_type": "stream",
          "name": "stdout",
          "text": [
            "ADF Statistic: 0.4948716593053929\n",
            "p-value: 0.9847163882019033\n",
            "Critical Values:\n",
            "\t1%: -10.41719074074074\n",
            "\t5%: -5.77838074074074\n",
            "\t10%: -3.391681111111111\n"
          ]
        }
      ]
    },
    {
      "cell_type": "markdown",
      "source": [
        "Fitting an ARIMA model to the time series"
      ],
      "metadata": {
        "id": "h1HoR07SH4cC"
      }
    },
    {
      "cell_type": "code",
      "source": [
        "# Fit an ARIMA model to the time series\n",
        "model = ARIMA(df_daily['new_cases'], order=(1,1,0))\n",
        "model_fit = model.fit()"
      ],
      "metadata": {
        "colab": {
          "base_uri": "https://localhost:8080/"
        },
        "id": "BJ60Morb_EMY",
        "outputId": "39f20bc3-a834-4095-83fc-75ed78ac3542"
      },
      "execution_count": 8,
      "outputs": [
        {
          "output_type": "stream",
          "name": "stderr",
          "text": [
            "/usr/local/lib/python3.8/dist-packages/statsmodels/tsa/statespace/sarimax.py:966: UserWarning: Non-stationary starting autoregressive parameters found. Using zeros as starting parameters.\n",
            "  warn('Non-stationary starting autoregressive parameters'\n"
          ]
        }
      ]
    },
    {
      "cell_type": "markdown",
      "source": [
        "Print the model summary"
      ],
      "metadata": {
        "id": "p7vXOw9EIDsc"
      }
    },
    {
      "cell_type": "code",
      "source": [
        "# Print the model summary\n",
        "print(model_fit.summary())"
      ],
      "metadata": {
        "colab": {
          "base_uri": "https://localhost:8080/"
        },
        "id": "mFXIdLF2_XNx",
        "outputId": "cc60ecd6-10cd-4377-83fe-a1ab79c88f5a"
      },
      "execution_count": 9,
      "outputs": [
        {
          "output_type": "stream",
          "name": "stdout",
          "text": [
            "                               SARIMAX Results                                \n",
            "==============================================================================\n",
            "Dep. Variable:              new_cases   No. Observations:                    4\n",
            "Model:                 ARIMA(1, 1, 0)   Log Likelihood                 -12.122\n",
            "Date:                Wed, 01 Mar 2023   AIC                             28.245\n",
            "Time:                        11:45:02   BIC                             26.442\n",
            "Sample:                    01-01-2022   HQIC                            24.621\n",
            "                         - 01-04-2022                                         \n",
            "Covariance Type:                  opg                                         \n",
            "==============================================================================\n",
            "                 coef    std err          z      P>|z|      [0.025      0.975]\n",
            "------------------------------------------------------------------------------\n",
            "ar.L1          0.9829      0.300      3.280      0.001       0.396       1.570\n",
            "sigma2        61.8518    280.498      0.221      0.825    -487.914     611.618\n",
            "===================================================================================\n",
            "Ljung-Box (L1) (Q):                   0.71   Jarque-Bera (JB):                 0.44\n",
            "Prob(Q):                              0.40   Prob(JB):                         0.80\n",
            "Heteroskedasticity (H):                nan   Skew:                            -0.55\n",
            "Prob(H) (two-sided):                   nan   Kurtosis:                         1.50\n",
            "===================================================================================\n",
            "\n",
            "Warnings:\n",
            "[1] Covariance matrix calculated using the outer product of gradients (complex-step).\n"
          ]
        },
        {
          "output_type": "stream",
          "name": "stderr",
          "text": [
            "/usr/local/lib/python3.8/dist-packages/statsmodels/tsa/statespace/mlemodel.py:3098: UserWarning: Early subset of data for variable 0  has too few non-missing observations to calculate test statistic.\n",
            "  warnings.warn('Early subset of data for variable %d'\n",
            "/usr/local/lib/python3.8/dist-packages/statsmodels/tsa/statespace/mlemodel.py:3103: UserWarning: Later subset of data for variable 0  has too few non-missing observations to calculate test statistic.\n",
            "  warnings.warn('Later subset of data for variable %d'\n"
          ]
        }
      ]
    },
    {
      "cell_type": "markdown",
      "source": [
        "Plot the residuals of the fitted model\n",
        "\n"
      ],
      "metadata": {
        "id": "BSgH5Uo5IGQq"
      }
    },
    {
      "cell_type": "code",
      "source": [
        "# Plot the residuals of the fitted model\n",
        "residuals = pd.DataFrame(model_fit.resid)\n",
        "plt.figure(figsize=(10,5))\n",
        "plt.plot(residuals)\n",
        "plt.title('Residuals of ARIMA Model')\n",
        "plt.xlabel('Date')\n",
        "plt.ylabel('Residuals')\n",
        "plt.show()"
      ],
      "metadata": {
        "colab": {
          "base_uri": "https://localhost:8080/",
          "height": 350
        },
        "id": "ZvWMcmLX_Xk6",
        "outputId": "ccc05253-1bcd-4e8d-8f51-f27e26d156ee"
      },
      "execution_count": 10,
      "outputs": [
        {
          "output_type": "display_data",
          "data": {
            "text/plain": [
              "<Figure size 720x360 with 1 Axes>"
            ],
            "image/png": "[encoded data removed]"
          },
          "metadata": {
            "needs_background": "light"
          }
        }
      ]
    },
    {
      "cell_type": "code",
      "source": [],
      "metadata": {
        "id": "VInmgoMJIw3A"
      },
      "execution_count": null,
      "outputs": []
    }
  ]
}